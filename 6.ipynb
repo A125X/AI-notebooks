{
 "cells": [
  {
   "cell_type": "markdown",
   "metadata": {},
   "source": [
    "# Шаталин Александр\n",
    "## Рабочая тетрадь 6"
   ]
  },
  {
   "cell_type": "markdown",
   "metadata": {},
   "source": [
    "### 1.1 Задание"
   ]
  },
  {
   "cell_type": "code",
   "execution_count": 9,
   "metadata": {},
   "outputs": [],
   "source": [
    "def chromosome_quality(x, y):\n",
    "    return (x - 3*y + 1) / (3*x**2 + 3*y**2 + 1)"
   ]
  },
  {
   "cell_type": "code",
   "execution_count": 10,
   "metadata": {},
   "outputs": [],
   "source": [
    "def exchange_scheme(old_x, old_y, sorted_id):\n",
    "    x_chromosome = [0 for i in range(4)]\n",
    "    y_chromosome = x_chromosome[:]\n",
    "\n",
    "    x_chromosome[2] = old_x[sorted_id[2]]\n",
    "    x_chromosome[3] = old_x[sorted_id[2]]\n",
    "\n",
    "    x_chromosome[0] = old_x[sorted_id[0]]\n",
    "\n",
    "    x_chromosome[1] = old_x[sorted_id[1]]\n",
    "\n",
    "    y_chromosome[2] = old_y[sorted_id[2]]\n",
    "    y_chromosome[3] = old_y[sorted_id[2]]\n",
    "\n",
    "    y_chromosome[0] = old_y[sorted_id[0]]\n",
    "\n",
    "    y_chromosome[1] = old_y[sorted_id[1]]\n",
    "\n",
    "    return x_chromosome, y_chromosome"
   ]
  },
  {
   "cell_type": "code",
   "execution_count": 11,
   "metadata": {},
   "outputs": [],
   "source": [
    "def sorting(quality_array):\n",
    "    sorted_id = sorted(range(len(quality_array)), key=lambda k: quality_array[k])\n",
    "\n",
    "    return sorted_id"
   ]
  },
  {
   "cell_type": "code",
   "execution_count": 12,
   "metadata": {},
   "outputs": [],
   "source": [
    "def evolution_step(X, Y, Z):\n",
    "    _, min_id = min((value, id) for (id, value) in enumerate(Z))\n",
    "    \n",
    "    X = X[:]\n",
    "    Y = Y[:]\n",
    "    Z = Z[:]\n",
    "\n",
    "    X.pop(min_id)\n",
    "    Y.pop(min_id)\n",
    "    Z.pop(min_id)\n",
    "\n",
    "    return X, Y, Z"
   ]
  },
  {
   "cell_type": "code",
   "execution_count": 13,
   "metadata": {},
   "outputs": [],
   "source": [
    "def evolution(X, Y, steps_amount=4):\n",
    "    results = []\n",
    "\n",
    "    for i in range(steps_amount):\n",
    "        arr_z = [chromosome_quality(x, Y[i]) for i, x in enumerate(X)]\n",
    "\n",
    "        X, Y, Z = evolution_step(X, Y, arr_z)\n",
    "\n",
    "        X, Y = exchange_scheme(X, Y, sorting(Z))\n",
    "\n",
    "        results.append([X, Y, sum(arr_z), arr_z])\n",
    "\n",
    "    return X, Y, results"
   ]
  },
  {
   "cell_type": "code",
   "execution_count": 14,
   "metadata": {},
   "outputs": [],
   "source": [
    "X = [-2, -1, 0, 1]\n",
    "Y = [-2, -1, 0, 1]\n",
    "\n",
    "results = evolution(X, Y, steps_amount=10)"
   ]
  },
  {
   "cell_type": "code",
   "execution_count": 15,
   "metadata": {},
   "outputs": [
    {
     "name": "stdout",
     "output_type": "stream",
     "text": [
      "max in 1 step: 1.4857142857142858\n",
      "max in 2 step: 2.6285714285714286\n",
      "max in 3 step: 3.428571428571429\n",
      "max in 4 step: 4.0\n",
      "max in 5 step: 4.0\n",
      "max in 6 step: 4.0\n",
      "max in 7 step: 4.0\n",
      "max in 8 step: 4.0\n",
      "max in 9 step: 4.0\n",
      "max in 10 step: 4.0\n",
      "max in quality array: 1.0\n"
     ]
    }
   ],
   "source": [
    "for i in range(len(results[2])):\n",
    "    print(f'max in {i+1} step: {results[2][i][2]}')\n",
    "\n",
    "quality_array = []\n",
    "for i in range(len(results[2])):\n",
    "    quality_array += results[2][i][3]\n",
    "\n",
    "print(f'max in quality array: {max(quality_array)}')"
   ]
  },
  {
   "cell_type": "markdown",
   "metadata": {},
   "source": [
    "### 1.2.1 Задание"
   ]
  },
  {
   "cell_type": "code",
   "execution_count": 16,
   "metadata": {},
   "outputs": [
    {
     "ename": "ModuleNotFoundError",
     "evalue": "No module named 'networkx'",
     "output_type": "error",
     "traceback": [
      "\u001b[0;31m---------------------------------------------------------------------------\u001b[0m",
      "\u001b[0;31mModuleNotFoundError\u001b[0m                       Traceback (most recent call last)",
      "\u001b[1;32m/Users/a125x/Projects/AI/6.ipynb Cell 11\u001b[0m in \u001b[0;36m<cell line: 1>\u001b[0;34m()\u001b[0m\n\u001b[0;32m----> <a href='vscode-notebook-cell:/Users/a125x/Projects/AI/6.ipynb#W4sZmlsZQ%3D%3D?line=0'>1</a>\u001b[0m \u001b[39mimport\u001b[39;00m \u001b[39mnetworkx\u001b[39;00m \u001b[39mas\u001b[39;00m \u001b[39mnx\u001b[39;00m\n\u001b[1;32m      <a href='vscode-notebook-cell:/Users/a125x/Projects/AI/6.ipynb#W4sZmlsZQ%3D%3D?line=1'>2</a>\u001b[0m \u001b[39mfrom\u001b[39;00m \u001b[39mmath\u001b[39;00m \u001b[39mimport\u001b[39;00m e\n",
      "\u001b[0;31mModuleNotFoundError\u001b[0m: No module named 'networkx'"
     ]
    }
   ],
   "source": [
    "import networkx as nx\n",
    "from math import e"
   ]
  },
  {
   "cell_type": "code",
   "execution_count": null,
   "metadata": {},
   "outputs": [],
   "source": [
    "distances = [\n",
    "    (1, 2, 20), \n",
    "    (1, 3, 40),\n",
    "    (1, 4, 42),\n",
    "    (1, 5, 33),\n",
    "    (1, 6, 21),\n",
    "    (2, 3, 26),\n",
    "    (2, 4, 38),\n",
    "    (2, 5, 42),\n",
    "    (2, 6, 17),\n",
    "    (3, 4, 22),\n",
    "    (3, 5, 43),\n",
    "    (3, 6, 21),\n",
    "    (4, 5, 27),\n",
    "    (4, 6, 22),\n",
    "    (5, 6, 26)\n",
    "    ]\n",
    "\n",
    "V = [1, 4, 5, 2, 6, 3, 1] # последовательность прохождения маршрута\n",
    "Z = [(3, 4), (4, 6), (5, 2), (6, 2)] # последовательность замен вершин\n",
    "Р = [49, 54, 43, 54] # случайные числа, выпавшие в процессе счёта\n",
    "Т = 100 # начальная температура"
   ]
  },
  {
   "cell_type": "code",
   "execution_count": null,
   "metadata": {},
   "outputs": [],
   "source": [
    "def probability(delta, T):\n",
    "    return 100 * e ** (-delta / T)"
   ]
  },
  {
   "cell_type": "code",
   "execution_count": null,
   "metadata": {},
   "outputs": [],
   "source": [
    "def reduct_temp(previous_temp):\n",
    "    return 0.5 * previous_temp"
   ]
  },
  {
   "cell_type": "code",
   "execution_count": null,
   "metadata": {},
   "outputs": [],
   "source": [
    "graph = nx.Graph() # создание пустого графа\n",
    "graph.add_weighted_edges_from(distances) # добавление весов рёбер\n",
    "# отрисовка графа с заданными вершинами\n",
    "nx.draw_kamada_kawai(graph, node_color = '#fb7258', node_size = 2000, with_labels = True)"
   ]
  },
  {
   "cell_type": "code",
   "execution_count": null,
   "metadata": {},
   "outputs": [],
   "source": [
    "# вычисление длины ребра\n",
    "def edge_length(i, j, distances, roundTrip = True):\n",
    "    if roundTrip:\n",
    "        return max([(item[2] if (item[0] == i and item[1] == j) or (item[1] == i and item[0] == j) else -1) \n",
    "        for item in distances])\n",
    "    else:\n",
    "        return max([ (item[2] if (item[0] == i and item [1] == j) else -1) for item in distances])"
   ]
  },
  {
   "cell_type": "code",
   "execution_count": null,
   "metadata": {},
   "outputs": [],
   "source": [
    "# вычисление длины маршрута\n",
    "def route_length(V, distances):\n",
    "    edges = []\n",
    "    for i in range(len (V) - 1):\n",
    "        edges.append(edge_length(V[i], V[i + 1], distances))\n",
    "    return sum(edges)"
   ]
  },
  {
   "cell_type": "code",
   "execution_count": null,
   "metadata": {},
   "outputs": [],
   "source": [
    "# одна перестановка в пути\n",
    "def routeOneReplacement (arrV, Z, replacementByName = True):\n",
    "    decrement = 1 if replacementByName else 0\n",
    "    arrV[Z[0] - decrement], arrV[Z[1] - decrement] = arrV[7[1] - decrement], arrV[Z[0] - decrement]\n",
    "    return arrV"
   ]
  },
  {
   "cell_type": "code",
   "execution_count": null,
   "metadata": {},
   "outputs": [],
   "source": [
    "# перестановки в пути\n",
    "def routeReplacement (V, Z):\n",
    "    for z in Z:\n",
    "        V = routeOneReplacement (V, z)\n",
    "    return V"
   ]
  },
  {
   "cell_type": "code",
   "execution_count": null,
   "metadata": {},
   "outputs": [],
   "source": [
    "# выбор нужного пути методом отжига\n",
    "def chooseRoute (distances, V, Z, T, P):\n",
    "    sumLength = route_length(V, distances) # нахождение длины пути\n",
    "    arrSum = [sumLength] # массив сумм длин\n",
    "    # циклы методом отжига\n",
    "    for i in range(len(Z)):\n",
    "        newV = routeOneReplacement (V[:], Z[i]) # новый маршрут после перестановки\n",
    "        newS = route_length(newV, distances) # длина нового маршрута\n",
    "        arrSum.append(newS)\n",
    "        deltas = newS - sumLength # разница между длиной нового и старого маршрутов\n",
    "        # в случае, если разница между длинами больше 0, то вычисляется вероятность\n",
    "        if deltas > 0:\n",
    "            p = probability(deltas, T) # подсчёт вероятности\n",
    "            # если заданная вероятность попадает в интервал от 0 до р, то новый маршрут Выбирается\n",
    "            if p › P[i]:\n",
    "                V = newV\n",
    "                sumLength = newS\n",
    "        else:\n",
    "            V = newV\n",
    "            sumLength = newS\n",
    "        T = reduct_temp (T) # вычисление температуры\n",
    "    return V, arrSum"
   ]
  },
  {
   "cell_type": "code",
   "execution_count": null,
   "metadata": {},
   "outputs": [],
   "source": [
    "# отрисовка графа по заданному маршруту\n",
    "def drawRouteGraph(distances, bestRoute):\n",
    "    newDistances = 1\n",
    "    # прохождение по вектору\n",
    "    for i in range(len(bestRoute) - 1):\n",
    "        for distance in distances:\n",
    "            if distance[0] == bestRoute [i] and distance [1] == bestRoute[i + 1] or distance [1] == bestRoute[il and distance[0] == bestRoute[i + 11:\n",
    "                newDistances.append(distance)\n",
    "    graph = nx.Graph( ) # создание пустого графа\n",
    "    graph.add weighted edges from(newDistances) # добавление весов рёбер\n",
    "    # отрисовка графа с заданными вершинами\n",
    "    nx.draw_kamada_kawai (graph, node_color = '#fb7258', node_size = 2000, with_labels = True)"
   ]
  },
  {
   "cell_type": "code",
   "execution_count": null,
   "metadata": {},
   "outputs": [],
   "source": [
    "bestRoute, arr_length = chooseRoute(distances, V, Z, T, P)\n",
    "print(f' Лучший выбранный маршрут: {bestRoute}')\n",
    "print (f'Длина лучшего выбранного маршрута: {route_length (bestRoute, distances)}')\n",
    "print(f'Длины всех рассмотренных маршрутов: {arr_length}')\n",
    "drawRouteGraph (distances, bestRoute) # отрисовка лучшего маршрута"
   ]
  },
  {
   "cell_type": "markdown",
   "metadata": {},
   "source": [
    "### 1.2.2 Задание"
   ]
  },
  {
   "cell_type": "code",
   "execution_count": null,
   "metadata": {},
   "outputs": [],
   "source": []
  }
 ],
 "metadata": {
  "kernelspec": {
   "display_name": "Python 3.9.13 ('base')",
   "language": "python",
   "name": "python3"
  },
  "language_info": {
   "codemirror_mode": {
    "name": "ipython",
    "version": 3
   },
   "file_extension": ".py",
   "mimetype": "text/x-python",
   "name": "python",
   "nbconvert_exporter": "python",
   "pygments_lexer": "ipython3",
   "version": "3.9.13"
  },
  "orig_nbformat": 4,
  "vscode": {
   "interpreter": {
    "hash": "24dcfa4a136b1e4e7f3a2b15ab832dc6f5b755bf7a3cebbd19fb171e031ae156"
   }
  }
 },
 "nbformat": 4,
 "nbformat_minor": 2
}
