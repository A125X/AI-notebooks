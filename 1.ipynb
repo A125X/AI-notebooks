{
 "cells": [
  {
   "cell_type": "markdown",
   "id": "31b33c71",
   "metadata": {},
   "source": [
    "# Шаталин Александр\n",
    "## Рабочая тетрадь 1"
   ]
  },
  {
   "cell_type": "markdown",
   "id": "6e1b0219",
   "metadata": {},
   "source": [
    "### 1.3 Задание"
   ]
  },
  {
   "cell_type": "code",
   "execution_count": 19,
   "id": "695968d2",
   "metadata": {},
   "outputs": [
    {
     "name": "stdout",
     "output_type": "stream",
     "text": [
      "True | <class 'bool'> \n",
      " {8, 1, 3, 7} | <class 'set'> \n",
      " {2, 4, 5, 10, 'apple'} | <class 'set'> \n",
      " set() | <class 'set'> \n",
      " ('Антонова Антонина', 34, 'ж') | <class 'tuple'> \n",
      " type | <class 'str'> \n",
      " [1, 'title', 2, 'content'] | <class 'list'> \n",
      "\n"
     ]
    }
   ],
   "source": [
    "x = 5 >= 2\n",
    "A = {1, 3, 7, 8}\n",
    "B = {2, 4, 5, 10, 'apple'}\n",
    "C = A & B\n",
    "df = 'Антонова Антонина', 34, 'ж'\n",
    "z = 'type'\n",
    "D = [1, 'title', 2, 'content']\n",
    "\n",
    "print(x, '|', type(x), '\\n',\n",
    "     A, '|', type(A), '\\n',\n",
    "     B, '|', type(B), '\\n',\n",
    "     C, '|', type(C), '\\n',\n",
    "     df, '|', type(df), '\\n',\n",
    "     z, '|', type(z), '\\n',\n",
    "     D, '|', type(D), '\\n',)"
   ]
  },
  {
   "cell_type": "markdown",
   "id": "c26a5164",
   "metadata": {},
   "source": [
    "### 2.3 Задание"
   ]
  },
  {
   "cell_type": "code",
   "execution_count": 20,
   "id": "27ea5ab2",
   "metadata": {},
   "outputs": [
    {
     "name": "stdout",
     "output_type": "stream",
     "text": [
      "x принадлежит [-5, 5]\n"
     ]
    }
   ],
   "source": [
    "x = int(input())\n",
    "\n",
    "if x < -5:\n",
    "    print('x принадлежит (-inf, -5)')\n",
    "elif x <= 5:\n",
    "    print('x принадлежит [-5, 5]')\n",
    "else:\n",
    "    print('x принадлежит (5, inf)')"
   ]
  },
  {
   "cell_type": "markdown",
   "id": "a768ae80",
   "metadata": {},
   "source": [
    "### 3.3.1 Задание"
   ]
  },
  {
   "cell_type": "code",
   "execution_count": 21,
   "id": "d44a1542",
   "metadata": {},
   "outputs": [
    {
     "name": "stdout",
     "output_type": "stream",
     "text": [
      "10\n",
      "7\n",
      "4\n",
      "1\n"
     ]
    }
   ],
   "source": [
    "x = 10\n",
    "while x >= 1:\n",
    "    print(x)\n",
    "    x -= 3"
   ]
  },
  {
   "cell_type": "markdown",
   "id": "77cb6fc8",
   "metadata": {},
   "source": [
    "### 3.3.2 Задание"
   ]
  },
  {
   "cell_type": "code",
   "execution_count": 22,
   "id": "078163e4",
   "metadata": {},
   "outputs": [
    {
     "name": "stdout",
     "output_type": "stream",
     "text": [
      "age\n",
      "sex\n",
      "height\n",
      "education\n"
     ]
    }
   ],
   "source": [
    "df = ['age', 'sex', 'height', 'education']\n",
    "for n in df:\n",
    "    print(n)"
   ]
  },
  {
   "cell_type": "markdown",
   "id": "a3c31425",
   "metadata": {},
   "source": [
    "### 3.3.3 Задание"
   ]
  },
  {
   "cell_type": "code",
   "execution_count": 23,
   "id": "561da47a",
   "metadata": {},
   "outputs": [
    {
     "name": "stdout",
     "output_type": "stream",
     "text": [
      "[2, 3, 4, 5, 6, 7, 8, 9, 10, 11, 12, 13, 14, 15]\n"
     ]
    }
   ],
   "source": [
    "list_num = list(range(2, 16))\n",
    "print(list_num)"
   ]
  },
  {
   "cell_type": "markdown",
   "id": "d28cf6d5",
   "metadata": {},
   "source": [
    "### 3.3.4 Задание"
   ]
  },
  {
   "cell_type": "code",
   "execution_count": 24,
   "id": "6bf8397c",
   "metadata": {},
   "outputs": [
    {
     "name": "stdout",
     "output_type": "stream",
     "text": [
      "105\n",
      "80\n",
      "55\n",
      "30\n",
      "5\n"
     ]
    }
   ],
   "source": [
    "for i in range(105, 4, -25):\n",
    "    print(i)"
   ]
  },
  {
   "cell_type": "markdown",
   "id": "883909a5",
   "metadata": {},
   "source": [
    "### 3.3.5 Задание"
   ]
  },
  {
   "cell_type": "code",
   "execution_count": 25,
   "id": "6db03f8d",
   "metadata": {
    "scrolled": true
   },
   "outputs": [
    {
     "name": "stdout",
     "output_type": "stream",
     "text": [
      "[8, 1, 6, 3, 4, 5, 2, 7, 0, 9]\n"
     ]
    }
   ],
   "source": [
    "x = list(range(10))\n",
    "for i in range(0, len(x) // 2, 2):\n",
    "    x[i], x[-2 - i] = x[-2 - i], x[i]\n",
    "print(x)"
   ]
  },
  {
   "cell_type": "markdown",
   "id": "eb4502d7",
   "metadata": {},
   "source": [
    "### 4.3.1 Задание"
   ]
  },
  {
   "cell_type": "code",
   "execution_count": 26,
   "id": "aa1e8173",
   "metadata": {},
   "outputs": [
    {
     "name": "stdout",
     "output_type": "stream",
     "text": [
      "0.49459934116659904\n",
      "0.5009312924354077\n"
     ]
    },
    {
     "data": {
      "image/png": "[encoded data removed]",
      "text/plain": [
       "<Figure size 432x288 with 1 Axes>"
      ]
     },
     "metadata": {
      "needs_background": "light"
     },
     "output_type": "display_data"
    }
   ],
   "source": [
    "import numpy\n",
    "import numpy.random as rand\n",
    "\n",
    "const = 100\n",
    "rand_array = rand.sample(const)\n",
    "x = numpy.linspace(0,1, const)\n",
    "average = numpy.average(rand_array)\n",
    "median = numpy.median(rand_array)\n",
    "print(average)\n",
    "print(median)\n",
    "\n",
    "from matplotlib import pyplot as plt\n",
    "fig, ax = plt.subplots()\n",
    "ax.scatter(x = x, y = rand_array)\n",
    "plt.xlabel(\"fumo\")\n",
    "plt.ylabel(\"fumo\")\n",
    "\n",
    "plt.show()"
   ]
  },
  {
   "cell_type": "markdown",
   "id": "9d3da210",
   "metadata": {},
   "source": [
    "### 4.3.2 Задание"
   ]
  },
  {
   "cell_type": "code",
   "execution_count": 27,
   "id": "d27e2288",
   "metadata": {},
   "outputs": [
    {
     "name": "stdout",
     "output_type": "stream",
     "text": [
      "[5.647787470673168, 10.6508918721686, 4.5622106686116375, 4.15081383346193, 4.0193903248070555, 6.081280610405511, 8.163125577690863, 136.86574508791878, 7.924129237993274, 7.330527191039103]\n"
     ]
    },
    {
     "data": {
      "image/png": "[encoded data removed]",
      "text/plain": [
       "<Figure size 432x288 with 1 Axes>"
      ]
     },
     "metadata": {
      "needs_background": "light"
     },
     "output_type": "display_data"
    },
    {
     "name": "stdout",
     "output_type": "stream",
     "text": [
      "[5.647787470673168, 10.6508918721686, 4.5622106686116375, 4.15081383346193, 4.0193903248070555]\n"
     ]
    },
    {
     "data": {
      "image/png": "[encoded data removed]",
      "text/plain": [
       "<Figure size 432x288 with 1 Axes>"
      ]
     },
     "metadata": {
      "needs_background": "light"
     },
     "output_type": "display_data"
    }
   ],
   "source": [
    "import numpy as np\n",
    "import math as m\n",
    "\n",
    "def func(x: float)->float:\n",
    "    return (1 + m.exp(x**0.5) + m.cos(x)**2)**0.5 / abs(1 - m.sin(x)**3) + np.log(2*x)\n",
    "\n",
    "y = [func(n) for n in range(1, 11)]\n",
    "x = numpy.linspace(1,11, 10)\n",
    "print(y)\n",
    "\n",
    "plt.plot(x, y)\n",
    "plt.show()\n",
    "\n",
    "y = y[:len(x)//2]\n",
    "x = numpy.linspace(1,6, 5)\n",
    "print(y)\n",
    "\n",
    "plt.scatter(x, y)\n",
    "plt.show()"
   ]
  },
  {
   "cell_type": "markdown",
   "id": "c64ba14c",
   "metadata": {},
   "source": [
    "### 4.3.3 Задание"
   ]
  },
  {
   "cell_type": "code",
   "execution_count": 28,
   "id": "aca53c46",
   "metadata": {},
   "outputs": [
    {
     "name": "stdout",
     "output_type": "stream",
     "text": [
      "6.26034587549474\n"
     ]
    },
    {
     "data": {
      "image/png": "[encoded data removed]",
      "text/plain": [
       "<Figure size 432x288 with 1 Axes>"
      ]
     },
     "metadata": {
      "needs_background": "light"
     },
     "output_type": "display_data"
    }
   ],
   "source": [
    "def func(x: float)->float:\n",
    "    return abs(m.cos(x * m.exp(m.cos(x) + m.log(x+1))))\n",
    "    \n",
    "y = [func(n) for n in range(10)]\n",
    "x = np.arange(0.0, 10, 1)\n",
    "\n",
    "from scipy.integrate import simps\n",
    "from numpy import trapz\n",
    "\n",
    "plt.plot(x, y, c = 'r')\n",
    "plt.fill_between(x, y)\n",
    "\n",
    "area = trapz(y)\n",
    "print(area)"
   ]
  },
  {
   "cell_type": "markdown",
   "id": "c4436108",
   "metadata": {},
   "source": [
    "### 4.3.4 Задание"
   ]
  },
  {
   "cell_type": "code",
   "execution_count": 29,
   "id": "2866a8df",
   "metadata": {},
   "outputs": [
    {
     "name": "stdout",
     "output_type": "stream",
     "text": [
      "[*********************100%***********************]  1 of 1 completed\n"
     ]
    },
    {
     "data": {
      "image/png": "[encoded data removed]",
      "text/plain": [
       "<Figure size 720x360 with 1 Axes>"
      ]
     },
     "metadata": {
      "needs_background": "light"
     },
     "output_type": "display_data"
    },
    {
     "name": "stdout",
     "output_type": "stream",
     "text": [
      "[*********************100%***********************]  1 of 1 completed\n",
      "\n",
      "1 Failed download:\n",
      "- MSFT: No data found for this date range, symbol may be delisted\n"
     ]
    },
    {
     "data": {
      "image/png": "[encoded data removed]",
      "text/plain": [
       "<Figure size 720x360 with 1 Axes>"
      ]
     },
     "metadata": {
      "needs_background": "light"
     },
     "output_type": "display_data"
    },
    {
     "name": "stdout",
     "output_type": "stream",
     "text": [
      "[*********************100%***********************]  1 of 1 completed\n",
      "\n",
      "1 Failed download:\n",
      "- GOOG: No data found for this date range, symbol may be delisted\n"
     ]
    },
    {
     "data": {
      "image/png": "[encoded data removed]",
      "text/plain": [
       "<Figure size 720x360 with 1 Axes>"
      ]
     },
     "metadata": {
      "needs_background": "light"
     },
     "output_type": "display_data"
    }
   ],
   "source": [
    "import yfinance as yf\n",
    "\n",
    "apple = yf.download('AAPL','2021-01-01','2021-12-31')[['Close']].dropna().Close.plot(figsize=(10,5)) \n",
    "plt.ylabel(\"AAPL Prices\")\n",
    "plt.grid()\n",
    "plt.show()\n",
    "\n",
    "microsoft = yf.download('MSFT','2021-01-01','2021-12-31')[['Close']].dropna().Close.plot(figsize=(10,5))\n",
    "plt.ylabel(\"MSFT Prices\")\n",
    "plt.grid()\n",
    "plt.show()\n",
    "\n",
    "google = yf.download('GOOG','2021-01-01','2021-12-31')[['Close']].dropna().Close.plot(figsize=(10,5))\n",
    "plt.ylabel(\"GOOG Prices\")\n",
    "plt.grid()\n",
    "plt.show()"
   ]
  },
  {
   "cell_type": "markdown",
   "id": "b425a2f0",
   "metadata": {},
   "source": [
    "### 4.3.5 Задание"
   ]
  },
  {
   "cell_type": "code",
   "execution_count": 30,
   "id": "456fbf3f",
   "metadata": {},
   "outputs": [
    {
     "name": "stdout",
     "output_type": "stream",
     "text": [
      "1.0227010445339448e+30\n"
     ]
    },
    {
     "data": {
      "text/plain": [
       "0"
      ]
     },
     "execution_count": 30,
     "metadata": {},
     "output_type": "execute_result"
    }
   ],
   "source": [
    "#provide sequence in this style: x |operation| y\n",
    "#list of operations:\n",
    "#+ == +\n",
    "#- == -\n",
    "#* == *\n",
    "#/ == /\n",
    "#^ == ^\n",
    "#e^x+y == x e y\n",
    "#sin(x + y) == x sin y\n",
    "#cos(x + y) == x cos y\n",
    "\n",
    "import math\n",
    "\n",
    "class Calc:\n",
    "    def __init__(self):\n",
    "        self.seq = ''\n",
    "    \n",
    "    def get_seq(self):\n",
    "        self.seq = input().split()\n",
    "    \n",
    "    def ret_answ(self):\n",
    "        if self.seq[1] == '+':\n",
    "            return float(self.seq[0]) + float(self.seq[2])\n",
    "        elif self.seq[1] == '-':\n",
    "            return float(self.seq[0]) - float(self.seq[2])\n",
    "        elif self.seq[1] == '*':\n",
    "            return float(self.seq[0]) * float(self.seq[2])\n",
    "        elif self.seq[1] == '/':\n",
    "            return float(self.seq[0]) / float(self.seq[2])\n",
    "        elif self.seq[1] == '^':\n",
    "            return float(self.seq[0]) ** float(self.seq[2])\n",
    "        elif self.seq[1] == 'e':\n",
    "            return math.exp(float(self.seq[0]) + float(self.seq[2]))\n",
    "        elif self.seq[1] == 'sin':\n",
    "            return math.sin(float(self.seq[0]) + float(self.seq[2]))\n",
    "        elif self.seq[1] == 'cos':\n",
    "            return math.cos(float(self.seq[0]) + float(self.seq[2]))\n",
    "        \n",
    "def __main__()->int:\n",
    "    calc = Calc()\n",
    "    for i in range(1):\n",
    "        calc.get_seq()\n",
    "        print(calc.ret_answ())\n",
    "    return 0\n",
    "\n",
    "__main__()"
   ]
  }
 ],
 "metadata": {
  "kernelspec": {
   "display_name": "Python 3.9.12 ('base')",
   "language": "python",
   "name": "python3"
  },
  "language_info": {
   "codemirror_mode": {
    "name": "ipython",
    "version": 3
   },
   "file_extension": ".py",
   "mimetype": "text/x-python",
   "name": "python",
   "nbconvert_exporter": "python",
   "pygments_lexer": "ipython3",
   "version": "3.9.12"
  },
  "vscode": {
   "interpreter": {
    "hash": "c1ccd29c74ebd70bd544b28864813c1f6504523050648328c6dee3fc3fb327e3"
   }
  }
 },
 "nbformat": 4,
 "nbformat_minor": 5
}
